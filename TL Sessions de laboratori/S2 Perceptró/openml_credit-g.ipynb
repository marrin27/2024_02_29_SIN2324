{
  "cells": [
    {
      "cell_type": "markdown",
      "metadata": {
        "id": "view-in-github",
        "colab_type": "text"
      },
      "source": [
        "<a href=\"https://colab.research.google.com/github/marrin27/2024_02_29_SIN2324/blob/main/TL%20Sessions%20de%20laboratori/S2%20Perceptr%C3%B3/openml_credit-g.ipynb\" target=\"_parent\"><img src=\"https://colab.research.google.com/assets/colab-badge.svg\" alt=\"Open In Colab\"/></a>"
      ]
    },
    {
      "cell_type": "markdown",
      "metadata": {
        "id": "dSmOIronvd48"
      },
      "source": [
        "# Perceptró aplicat a olivetti\n"
      ]
    },
    {
      "cell_type": "markdown",
      "metadata": {
        "id": "upMNTp_avd5C"
      },
      "source": [
        "**Lectura del corpus:** $\\;$ comprovem també que les matrius de dades i etiquetes tenes les files i columnes que toca"
      ]
    },
    {
      "cell_type": "markdown",
      "metadata": {
        "id": "-Ih9xkwqvd5H"
      },
      "source": [
        "**Partició del corpus:** $\\;$ Creem un split de digits amb un $20\\%$ de dades per a test i la resta per a entrenament (training), barallant prèviament les dades d'acord amb una llavor donada per a la generació de nombres aleatoris. Ací, com en tot codi que incloga aleatorietat (que requerisca generar nombres aleatoris), convé fixar la dita llavor per a poder reproduir experiments amb exactitud."
      ]
    },
    {
      "cell_type": "code",
      "execution_count": 5,
      "metadata": {
        "id": "hJqTdanhvd5D",
        "outputId": "1c1bbf49-88de-4f47-a5ac-0f5020b97a6a",
        "colab": {
          "base_uri": "https://localhost:8080/"
        }
      },
      "outputs": [
        {
          "output_type": "stream",
          "name": "stdout",
          "text": [
            "downloading Olivetti faces from https://ndownloader.figshare.com/files/5976027 to /root/scikit_learn_data\n",
            "(320, 4096) (80, 4096)\n"
          ]
        }
      ],
      "source": [
        "import numpy as np; from sklearn.datasets import fetch_olivetti_faces\n",
        "from sklearn.model_selection import train_test_split\n",
        "\n",
        "digits = fetch_olivetti_faces(); X = digits.data.astype(np.float16); X/=X.max() # esto ultimo normaliza los valores para estar entre 0 y 1\n",
        "y = digits.target.astype(np.uint).reshape(-1, 1); # convierte las etiquetas de clases en enteros sin signo, y reorganiza el array para que sea de 64x1\n",
        "X_train, X_test, y_train, y_test = train_test_split(X, y, test_size=0.2, shuffle=True, random_state=23)\n",
        "print(X_train.shape, X_test.shape)\n",
        "# print(X.shape, y.shape, \"\\n\", np.hstack([X, y])[:5, :]) imprime las 5 primeras filas, con los valores de sus atributos + su etiqueta de clase"
      ]
    },
    {
      "cell_type": "markdown",
      "source": [
        "Como funciona reshape con un array sencillo\n"
      ],
      "metadata": {
        "id": "VQAfATc6CQOZ"
      }
    },
    {
      "cell_type": "code",
      "source": [
        "import numpy as np; A=np.array([[1,2],[3,4]]).reshape(4,1); A"
      ],
      "metadata": {
        "id": "WYaL4bDsw83D",
        "outputId": "f13f9a1f-8187-4c40-bde6-bc988871381a",
        "colab": {
          "base_uri": "https://localhost:8080/"
        }
      },
      "execution_count": null,
      "outputs": [
        {
          "output_type": "execute_result",
          "data": {
            "text/plain": [
              "array([[1],\n",
              "       [2],\n",
              "       [3],\n",
              "       [4]])"
            ]
          },
          "metadata": {},
          "execution_count": 1
        }
      ]
    },
    {
      "cell_type": "markdown",
      "metadata": {
        "id": "BZbBqBIivd5J"
      },
      "source": [
        "**Implementació de Perceptró:** $\\;$ torna pesos en notació homogènia, $\\mathbf{W}\\in\\mathbb{R}^{(1+D)\\times C};\\;$ també el nombre d'errors i iteracions executades"
      ]
    },
    {
      "cell_type": "code",
      "execution_count": 6,
      "metadata": {
        "id": "Fa7ZHVjuvd5J"
      },
      "outputs": [],
      "source": [
        "def perceptro(X, y, b=0.1, a=1.0, K=200):\n",
        "    N, D = X.shape; Y = np.unique(y); C = Y.size; W = np.zeros((1+D, C))\n",
        "    for k in range(1, K+1):\n",
        "        E = 0\n",
        "        for n in range(N):\n",
        "            xn = np.array([1, *X[n, :]])\n",
        "            cn = np.squeeze(np.where(Y==y[n]))\n",
        "            gn = W[:,cn].T @ xn; err = False\n",
        "            for c in np.arange(C):\n",
        "                if c != cn and W[:,c].T @ xn + b >= gn:\n",
        "                    W[:, c] = W[:, c] - a*xn; err = True\n",
        "            if err:\n",
        "                W[:, cn] = W[:, cn] + a*xn; E = E + 1\n",
        "        if E == 0:\n",
        "            break;\n",
        "    return W, E, k"
      ]
    },
    {
      "cell_type": "markdown",
      "metadata": {
        "id": "f2WHnrQ6vd5K"
      },
      "source": [
        "**Aprenentatge d'un classificador (lineal) amb Perceptró:** $\\;$ Perceptró minimitza el nombre d'errors d'entrenament (amb marge)\n",
        "$$\\mathbf{W}^*=\\operatorname*{argmin}_{\\mathbf{W}=(\\boldsymbol{w}_1,\\dotsc,\\boldsymbol{w}_C)}\\sum_n\\;\\mathbb{I}\\biggl(\\max_{c\\neq y_n}\\;\\boldsymbol{w}_c^t\\boldsymbol{x}_n+b \\;>\\; \\boldsymbol{w}_{y_n}^t\\boldsymbol{x}_n\\biggr)$$"
      ]
    },
    {
      "cell_type": "code",
      "execution_count": 7,
      "metadata": {
        "id": "A7jEse1gvd5M",
        "outputId": "e89bdfec-d488-4f56-ed4b-af51a0404fc7",
        "colab": {
          "base_uri": "https://localhost:8080/"
        }
      },
      "outputs": [
        {
          "output_type": "stream",
          "name": "stdout",
          "text": [
            "Nombre d'iteracions executades:  42\n",
            "Nombre d'errors d'entrenament:  0\n",
            "Vectors de pesos de les classes (en columnes i amb notació homogènia):\n",
            " [[-587.         -581.         -581.         ... -590.\n",
            "  -557.         -585.        ]\n",
            " [-247.08929443 -233.21960449 -244.16125488 ... -266.64141846\n",
            "  -244.67816162 -239.23931885]\n",
            " [-265.13061523 -251.18511963 -267.29406738 ... -281.07702637\n",
            "  -270.37103271 -256.94555664]\n",
            " ...\n",
            " [-211.28652954 -203.89273071 -199.72198486 ... -196.6746521\n",
            "  -201.48944092 -207.01318359]\n",
            " [-205.98419189 -202.98080444 -198.18414307 ... -194.52960205\n",
            "  -195.22445679 -199.60604858]\n",
            " [-206.72164917 -203.47958374 -198.56820679 ... -189.42913818\n",
            "  -192.849823   -194.80505371]]\n"
          ]
        }
      ],
      "source": [
        "W, E, k = perceptro(X_train, y_train)\n",
        "print(\"Nombre d'iteracions executades: \", k)\n",
        "print(\"Nombre d'errors d'entrenament: \", E)\n",
        "print(\"Vectors de pesos de les classes (en columnes i amb notació homogènia):\\n\", W);"
      ]
    },
    {
      "cell_type": "markdown",
      "metadata": {
        "id": "LO2sOdfnvd5N"
      },
      "source": [
        "**Càlcul de la taxa d'error en test:**"
      ]
    },
    {
      "cell_type": "code",
      "execution_count": 8,
      "metadata": {
        "id": "6fCZs5u_vd5O",
        "outputId": "be7353e2-c3e2-4298-9717-8499e55800b5",
        "colab": {
          "base_uri": "https://localhost:8080/"
        }
      },
      "outputs": [
        {
          "output_type": "stream",
          "name": "stdout",
          "text": [
            "Taxa d'error en test: 7.5%\n"
          ]
        }
      ],
      "source": [
        "X_testh = np.hstack([np.ones((len(X_test), 1)), X_test])\n",
        "y_test_pred  = np.argmax(X_testh @ W, axis=1).reshape(-1, 1)\n",
        "err_test = np.count_nonzero(y_test_pred != y_test) / len(X_test)\n",
        "print(f\"Taxa d'error en test: {err_test:.1%}\")"
      ]
    },
    {
      "cell_type": "code",
      "source": [
        "np.argmax([[2,3,1],[4,7,1]])"
      ],
      "metadata": {
        "id": "7ESFH6XX7VA9",
        "outputId": "9167f093-fc41-4349-be3e-d78857ed0a22",
        "colab": {
          "base_uri": "https://localhost:8080/"
        }
      },
      "execution_count": null,
      "outputs": [
        {
          "output_type": "execute_result",
          "data": {
            "text/plain": [
              "4"
            ]
          },
          "metadata": {},
          "execution_count": 18
        }
      ]
    },
    {
      "cell_type": "markdown",
      "metadata": {
        "id": "AVlayHKcvd5P"
      },
      "source": [
        "**Ajust del marge:** $\\;$ experiment per a aprendre un valor de $b$"
      ]
    },
    {
      "cell_type": "code",
      "execution_count": 9,
      "metadata": {
        "id": "3sCCjtG5vd5P",
        "outputId": "e537f0d4-c18a-47e4-abac-21ea31bf3d50",
        "colab": {
          "base_uri": "https://localhost:8080/"
        }
      },
      "outputs": [
        {
          "output_type": "stream",
          "name": "stdout",
          "text": [
            "b: 0.0 E: 0 k: 48 err_test: 18.8%\n",
            "b: 0.01 E: 0 k: 58 err_test: 11.2%\n",
            "b: 0.1 E: 0 k: 42 err_test: 7.5%\n",
            "b: 10 E: 0 k: 45 err_test: 15.0%\n",
            "b: 100 E: 0 k: 72 err_test: 8.8%\n"
          ]
        }
      ],
      "source": [
        "for b in (.0, .01, .1, 10, 100):\n",
        "    W, E, k = perceptro(X_train, y_train, b=b, K=1000)\n",
        "    X_testh = np.hstack([np.ones((len(X_test), 1)), X_test])\n",
        "    y_test_pred  = np.argmax(X_testh @ W, axis=1).reshape(-1, 1)\n",
        "    err_test = np.count_nonzero(y_test_pred != y_test) / len(X_test)\n",
        "    print(f\"b: {b} E: {E} k: {k} err_test: {err_test:.1%}\")"
      ]
    },
    {
      "cell_type": "markdown",
      "metadata": {
        "id": "MckHRV8fvd5Q"
      },
      "source": [
        "**Interpretació de resultats:** $\\;$ les dades d'entrenament no semblen linealment separables; no està clar que un marge major que zero puga millorar resultats, sobretot perquè sols tenim $30$ mostres de test; amb marge nul ja hem vist que s'obté un error (en test) del $16.7\\%$"
      ]
    }
  ],
  "metadata": {
    "kernelspec": {
      "display_name": "Python 3",
      "language": "python",
      "name": "python3"
    },
    "language_info": {
      "codemirror_mode": {
        "name": "ipython",
        "version": 3
      },
      "file_extension": ".py",
      "mimetype": "text/x-python",
      "name": "python",
      "nbconvert_exporter": "python",
      "pygments_lexer": "ipython3",
      "version": "3.11.4"
    },
    "orig_nbformat": 4,
    "colab": {
      "provenance": [],
      "include_colab_link": true
    }
  },
  "nbformat": 4,
  "nbformat_minor": 0
}