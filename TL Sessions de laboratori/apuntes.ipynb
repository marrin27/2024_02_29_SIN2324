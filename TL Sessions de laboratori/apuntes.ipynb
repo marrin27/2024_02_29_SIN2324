{
  "cells": [
    {
      "cell_type": "markdown",
      "metadata": {
        "id": "EOLZM-LX8OYC"
      },
      "source": [
        "# Regressió logística aplicada a iris"
      ]
    },
    {
      "cell_type": "markdown",
      "metadata": {
        "id": "UyrGoXYW8OYJ"
      },
      "source": [
        "**Lectura del corpus i partició:**"
      ]
    },
    {
      "cell_type": "code",
      "execution_count": null,
      "metadata": {
        "id": "QSDZ9h3Q8OYK"
      },
      "outputs": [],
      "source": [
        "import numpy as np; from sklearn.datasets import load_iris\n",
        "from sklearn.model_selection import train_test_split\n",
        "iris = load_iris(); X = iris.data.astype(np.float16); y = iris.target.astype(np.uint)\n",
        "X_train, X_test, y_train, y_test = train_test_split(X, y, test_size=0.2, shuffle=True, random_state=23)"
      ]
    },
    {
      "cell_type": "markdown",
      "metadata": {
        "id": "jKyTf1kS8OYP"
      },
      "source": [
        "**LogisticRegression:** $\\;$ implementació de regressió logística en sklearn"
      ]
    },
    {
      "cell_type": "code",
      "execution_count": null,
      "metadata": {
        "id": "k_FpTkwG8OYP",
        "outputId": "feaed312-a833-44c7-d849-e4ff8300978f",
        "colab": {
          "base_uri": "https://localhost:8080/"
        }
      },
      "outputs": [
        {
          "output_type": "stream",
          "name": "stdout",
          "text": [
            "Error de test: 0.0%\n"
          ]
        }
      ],
      "source": [
        "from sklearn.linear_model import LogisticRegression\n",
        "from sklearn.metrics import accuracy_score\n",
        "clf = LogisticRegression(random_state=23).fit(X_train, y_train)\n",
        "y_test_pred = clf.predict(X_test)\n",
        "err_test = 1 - accuracy_score(y_test, clf.predict(X_test))\n",
        "print(f\"Error de test: {err_test:.1%}\")"
      ]
    },
    {
      "cell_type": "markdown",
      "metadata": {
        "id": "66QY75zN8OYQ"
      },
      "source": [
        "**Warnings:** $\\;$ sklearn és un poc \"llandós\" amb el warnings; ignorarem els avisos sobre convergència"
      ]
    },
    {
      "cell_type": "code",
      "execution_count": null,
      "metadata": {
        "id": "l0GqkGL78OYR"
      },
      "outputs": [],
      "source": [
        "import warnings; from sklearn.exceptions import ConvergenceWarning\n",
        "warnings.filterwarnings(\"ignore\", category=ConvergenceWarning, module=\"sklearn\")"
      ]
    },
    {
      "cell_type": "markdown",
      "metadata": {
        "id": "RsskSpZL8OYS"
      },
      "source": [
        "**Solvers:** $\\;$ el paràmetre `solver` de LogisticRegression permet triar entre diferents solvers (algorismes d'optimització)"
      ]
    },
    {
      "cell_type": "code",
      "execution_count": null,
      "metadata": {
        "id": "UUQuYpcA8OYT",
        "outputId": "9f498ed9-211b-4af5-a8da-16c349edf073",
        "colab": {
          "base_uri": "https://localhost:8080/"
        }
      },
      "outputs": [
        {
          "output_type": "stream",
          "name": "stdout",
          "text": [
            "Error de test després d'entrenar amb el solver lbfgs: 0.0%\n",
            "Error de test després d'entrenar amb el solver liblinear: 3.3%\n",
            "Error de test després d'entrenar amb el solver newton-cg: 0.0%\n",
            "Error de test després d'entrenar amb el solver newton-cholesky: 3.3%\n",
            "Error de test després d'entrenar amb el solver sag: 0.0%\n",
            "Error de test després d'entrenar amb el solver saga: 0.0%\n"
          ]
        }
      ],
      "source": [
        "for solver in ['lbfgs', 'liblinear', 'newton-cg', 'newton-cholesky', 'sag', 'saga']:\n",
        "    clf = LogisticRegression(random_state=23, solver=solver, max_iter=10000).fit(X_train, y_train)\n",
        "    err_test = 1 - accuracy_score(y_test, clf.predict(X_test))\n",
        "    print(f\"Error de test després d'entrenar amb el solver {solver!s}: {err_test:.1%}\")"
      ]
    },
    {
      "cell_type": "markdown",
      "metadata": {
        "id": "G0B0-5Tk8OYU"
      },
      "source": [
        "**Tolerància:** $\\;$ el paràmetre `tol` estableix un llindar de tolerància per a acabar l'entrenament (1e4 per omissió)"
      ]
    },
    {
      "cell_type": "code",
      "execution_count": null,
      "metadata": {
        "id": "r1U9S5My8OYU",
        "outputId": "4f57d545-c151-48ce-e344-c360dff83584"
      },
      "outputs": [
        {
          "name": "stdout",
          "output_type": "stream",
          "text": [
            "Error de test amb tolerància 0.0001: 0.0%\n",
            "Error de test amb tolerància 0.01: 0.0%\n",
            "Error de test amb tolerància 1: 0.0%\n",
            "Error de test amb tolerància 100.0: 60.0%\n",
            "Error de test amb tolerància 10000.0: 60.0%\n"
          ]
        }
      ],
      "source": [
        "for tol in (1e-4, 1e-2, 1, 1e2, 1e4):\n",
        "    clf = LogisticRegression(tol=tol, random_state=23, max_iter=10000).fit(X_train, y_train)\n",
        "    err_test = 1 - accuracy_score(y_test, clf.predict(X_test))\n",
        "    print(f\"Error de test amb tolerància {tol}: {err_test:.1%}\")"
      ]
    },
    {
      "cell_type": "markdown",
      "metadata": {
        "id": "3ytq7gAd8OYV"
      },
      "source": [
        "**Regularització:** $\\;$ el paràmetre `C` (positiu, $1.0$ per omissió) des-regularitza el criteri d'entrenament\n",
        "* **Possibilitat de subajust:** $\\;$ amb un valor pròxim a zero (màxima regularització)\n",
        "* **Possibilitat de sobreajust:** $\\;$ amb un valor positiu molt alt (mínima regularització)"
      ]
    },
    {
      "cell_type": "code",
      "execution_count": null,
      "metadata": {
        "id": "Y_-kk20n8OYV",
        "outputId": "4a3e3916-8974-4151-cbd1-78d003ac97a6"
      },
      "outputs": [
        {
          "name": "stdout",
          "output_type": "stream",
          "text": [
            "Error de test amb C 0.01: 6.7%\n",
            "Error de test amb C 0.1: 3.3%\n",
            "Error de test amb C 1: 0.0%\n",
            "Error de test amb C 10: 3.3%\n",
            "Error de test amb C 100: 3.3%\n"
          ]
        }
      ],
      "source": [
        "for C in (1e-2, 1e-1, 1, 1e1, 1e2):\n",
        "    clf = LogisticRegression(C=C, random_state=23, max_iter=10000).fit(X_train, y_train)\n",
        "    err_test = 1 - accuracy_score(y_test, clf.predict(X_test))\n",
        "    print(f\"Error de test amb C {C:g}: {err_test:.1%}\")"
      ]
    },
    {
      "cell_type": "markdown",
      "metadata": {
        "id": "_njkNdJT8OYV"
      },
      "source": [
        "**Early stopping:** $\\;$ estaviem càlcul i evitem sobre-entrenament (\"regularitzem\") acabant prompte (en poques iteracions)"
      ]
    },
    {
      "cell_type": "code",
      "execution_count": null,
      "metadata": {
        "id": "RSPRTOYa8OYW",
        "outputId": "c63a82c7-009a-4e9f-96e7-8ff8d530ab04"
      },
      "outputs": [
        {
          "name": "stdout",
          "output_type": "stream",
          "text": [
            "Error de test amb max_iter 10: 0.0%\n",
            "Error de test amb max_iter 20: 3.3%\n",
            "Error de test amb max_iter 50: 0.0%\n",
            "Error de test amb max_iter 100: 0.0%\n"
          ]
        }
      ],
      "source": [
        "for max_iter in (10, 20, 50, 100):\n",
        "    clf = LogisticRegression(random_state=23, max_iter=max_iter).fit(X_train, y_train)\n",
        "    err_test = 1 - accuracy_score(y_test, clf.predict(X_test))\n",
        "    print(f\"Error de test amb max_iter {max_iter}: {err_test:.1%}\")"
      ]
    }
  ],
  "metadata": {
    "kernelspec": {
      "display_name": "Python 3",
      "language": "python",
      "name": "python3"
    },
    "language_info": {
      "codemirror_mode": {
        "name": "ipython",
        "version": 3
      },
      "file_extension": ".py",
      "mimetype": "text/x-python",
      "name": "python",
      "nbconvert_exporter": "python",
      "pygments_lexer": "ipython3",
      "version": "3.11.4"
    },
    "orig_nbformat": 4,
    "colab": {
      "provenance": []
    }
  },
  "nbformat": 4,
  "nbformat_minor": 0
}